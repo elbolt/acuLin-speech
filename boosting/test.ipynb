{
 "cells": [
  {
   "cell_type": "markdown",
   "metadata": {},
   "source": []
  },
  {
   "cell_type": "code",
   "execution_count": 1,
   "metadata": {},
   "outputs": [],
   "source": [
    "if __name__ == '__main__':\n",
    "    print(f'Running {__file__} ...')\n",
    "\n",
    "    with open('config.json', 'r') as file:\n",
    "        config = json.load(file)\n",
    "\n",
    "    eeg_dir = Path(config['eeg_dir'])\n",
    "    feature_dir = Path(config['feature_dir'])\n",
    "    out_dir = Path(config['out_dir'])\n",
    "    default_subjects = config['default_subjects']\n",
    "\n",
    "    trf_dict = {\n",
    "        \"model_attributes\": config['model_attributes'],\n",
    "        \"sfreq\": config['sfreq'],\n",
    "        \"tmin\": config['tmin'],\n",
    "        \"tmax\": config['tmax'],\n",
    "        \"partition\": config['partition']\n",
    "    }\n",
    "\n",
    "    out_dir.mkdir(exist_ok=True)\n",
    "    (out_dir / 'kernels').mkdir(exist_ok=True)\n",
    "    (out_dir / 'scores').mkdir(exist_ok=True)\n",
    "\n",
    "    subjects = parse_arguments(default_subjects)\n",
    "\n",
    "    for subject_id in subjects:\n",
    "        all_kernels, all_scores, times = run_boosting_pipeline(subject_id, eeg_dir, feature_dir, trf_dict)\n",
    "\n",
    "        np.save(out_dir / 'kernels' / f'{subject_id}.npy', all_kernels)\n",
    "        np.save(out_dir / 'scores' / f'{subject_id}.npy', all_scores)\n",
    "\n",
    "    np.save(out_dir / 'times.npy', times)\n"
   ]
  }
 ],
 "metadata": {
  "kernelspec": {
   "display_name": "neuro",
   "language": "python",
   "name": "python3"
  },
  "language_info": {
   "codemirror_mode": {
    "name": "ipython",
    "version": 3
   },
   "file_extension": ".py",
   "mimetype": "text/x-python",
   "name": "python",
   "nbconvert_exporter": "python",
   "pygments_lexer": "ipython3",
   "version": "3.11.9"
  }
 },
 "nbformat": 4,
 "nbformat_minor": 2
}
